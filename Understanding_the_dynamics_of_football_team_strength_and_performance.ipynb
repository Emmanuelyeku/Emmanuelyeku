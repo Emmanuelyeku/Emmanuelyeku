{
  "cells": [
    {
      "cell_type": "markdown",
      "metadata": {
        "id": "view-in-github",
        "colab_type": "text"
      },
      "source": [
        "<a href=\"https://colab.research.google.com/github/Emmanuelyeku/Emmanuelyeku/blob/main/Understanding_the_dynamics_of_football_team_strength_and_performance.ipynb\" target=\"_parent\"><img src=\"https://colab.research.google.com/assets/colab-badge.svg\" alt=\"Open In Colab\"/></a>"
      ]
    },
    {
      "cell_type": "code",
      "execution_count": null,
      "metadata": {
        "id": "Xm-uP-WPnKMi"
      },
      "outputs": [],
      "source": [
        "import pandas as pd"
      ]
    },
    {
      "cell_type": "code",
      "execution_count": null,
      "metadata": {
        "id": "RRZADLk5oMJU"
      },
      "outputs": [],
      "source": [
        "df = pd.read_csv(\"/content/cleaned_data.csv\")"
      ]
    },
    {
      "cell_type": "code",
      "execution_count": null,
      "metadata": {
        "colab": {
          "base_uri": "https://localhost:8080/",
          "height": 359
        },
        "id": "59YlbfqfpOpE",
        "outputId": "b7c9577c-89d0-4f63-9fbd-bb64d1f7ee8c"
      },
      "outputs": [
        {
          "output_type": "execute_result",
          "data": {
            "text/plain": [
              "             Name  Overall  Potential Positions_Played Best_Position  \\\n",
              "0        L. Messi       91         91               RW           CAM   \n",
              "1      K. Benzema       91         91            CF,ST            CF   \n",
              "2  R. Lewandowski       91         91               ST            ST   \n",
              "3    K. De Bruyne       91         91           CM,CAM            CM   \n",
              "4       K. Mbappé       91         95            ST,LW            ST   \n",
              "\n",
              "  Nationality  Age  Height(in cm)  Weight(in kg)            Club_Name  ...  \\\n",
              "0   Argentina   35            169             67  Paris Saint-Germain  ...   \n",
              "1      France   34            185             81       Real Madrid CF  ...   \n",
              "2      Poland   33            185             81         FC Barcelona  ...   \n",
              "3     Belgium   31            181             70      Manchester City  ...   \n",
              "4      France   23            182             73  Paris Saint-Germain  ...   \n",
              "\n",
              "  Aggression  Interceptions  Positioning  Vision Penalties Composure  Marking  \\\n",
              "0         44             40           93      94        75        96       20   \n",
              "1         63             39           92      89        84        90       43   \n",
              "2         81             49           94      81        90        88       35   \n",
              "3         75             66           88      94        83        89       68   \n",
              "4         64             38           92      83        80        88       26   \n",
              "\n",
              "   Standing_Tackle  Sliding_Tackle  Goalkeeper_Reflexes  \n",
              "0               35              24                    8  \n",
              "1               24              18                    7  \n",
              "2               42              19                   10  \n",
              "3               65              53                   13  \n",
              "4               34              32                    6  \n",
              "\n",
              "[5 rows x 52 columns]"
            ],
            "text/html": [
              "\n",
              "  <div id=\"df-b936a13e-cf0c-4d35-97ed-abdc54b386f7\" class=\"colab-df-container\">\n",
              "    <div>\n",
              "<style scoped>\n",
              "    .dataframe tbody tr th:only-of-type {\n",
              "        vertical-align: middle;\n",
              "    }\n",
              "\n",
              "    .dataframe tbody tr th {\n",
              "        vertical-align: top;\n",
              "    }\n",
              "\n",
              "    .dataframe thead th {\n",
              "        text-align: right;\n",
              "    }\n",
              "</style>\n",
              "<table border=\"1\" class=\"dataframe\">\n",
              "  <thead>\n",
              "    <tr style=\"text-align: right;\">\n",
              "      <th></th>\n",
              "      <th>Name</th>\n",
              "      <th>Overall</th>\n",
              "      <th>Potential</th>\n",
              "      <th>Positions_Played</th>\n",
              "      <th>Best_Position</th>\n",
              "      <th>Nationality</th>\n",
              "      <th>Age</th>\n",
              "      <th>Height(in cm)</th>\n",
              "      <th>Weight(in kg)</th>\n",
              "      <th>Club_Name</th>\n",
              "      <th>...</th>\n",
              "      <th>Aggression</th>\n",
              "      <th>Interceptions</th>\n",
              "      <th>Positioning</th>\n",
              "      <th>Vision</th>\n",
              "      <th>Penalties</th>\n",
              "      <th>Composure</th>\n",
              "      <th>Marking</th>\n",
              "      <th>Standing_Tackle</th>\n",
              "      <th>Sliding_Tackle</th>\n",
              "      <th>Goalkeeper_Reflexes</th>\n",
              "    </tr>\n",
              "  </thead>\n",
              "  <tbody>\n",
              "    <tr>\n",
              "      <th>0</th>\n",
              "      <td>L. Messi</td>\n",
              "      <td>91</td>\n",
              "      <td>91</td>\n",
              "      <td>RW</td>\n",
              "      <td>CAM</td>\n",
              "      <td>Argentina</td>\n",
              "      <td>35</td>\n",
              "      <td>169</td>\n",
              "      <td>67</td>\n",
              "      <td>Paris Saint-Germain</td>\n",
              "      <td>...</td>\n",
              "      <td>44</td>\n",
              "      <td>40</td>\n",
              "      <td>93</td>\n",
              "      <td>94</td>\n",
              "      <td>75</td>\n",
              "      <td>96</td>\n",
              "      <td>20</td>\n",
              "      <td>35</td>\n",
              "      <td>24</td>\n",
              "      <td>8</td>\n",
              "    </tr>\n",
              "    <tr>\n",
              "      <th>1</th>\n",
              "      <td>K. Benzema</td>\n",
              "      <td>91</td>\n",
              "      <td>91</td>\n",
              "      <td>CF,ST</td>\n",
              "      <td>CF</td>\n",
              "      <td>France</td>\n",
              "      <td>34</td>\n",
              "      <td>185</td>\n",
              "      <td>81</td>\n",
              "      <td>Real Madrid CF</td>\n",
              "      <td>...</td>\n",
              "      <td>63</td>\n",
              "      <td>39</td>\n",
              "      <td>92</td>\n",
              "      <td>89</td>\n",
              "      <td>84</td>\n",
              "      <td>90</td>\n",
              "      <td>43</td>\n",
              "      <td>24</td>\n",
              "      <td>18</td>\n",
              "      <td>7</td>\n",
              "    </tr>\n",
              "    <tr>\n",
              "      <th>2</th>\n",
              "      <td>R. Lewandowski</td>\n",
              "      <td>91</td>\n",
              "      <td>91</td>\n",
              "      <td>ST</td>\n",
              "      <td>ST</td>\n",
              "      <td>Poland</td>\n",
              "      <td>33</td>\n",
              "      <td>185</td>\n",
              "      <td>81</td>\n",
              "      <td>FC Barcelona</td>\n",
              "      <td>...</td>\n",
              "      <td>81</td>\n",
              "      <td>49</td>\n",
              "      <td>94</td>\n",
              "      <td>81</td>\n",
              "      <td>90</td>\n",
              "      <td>88</td>\n",
              "      <td>35</td>\n",
              "      <td>42</td>\n",
              "      <td>19</td>\n",
              "      <td>10</td>\n",
              "    </tr>\n",
              "    <tr>\n",
              "      <th>3</th>\n",
              "      <td>K. De Bruyne</td>\n",
              "      <td>91</td>\n",
              "      <td>91</td>\n",
              "      <td>CM,CAM</td>\n",
              "      <td>CM</td>\n",
              "      <td>Belgium</td>\n",
              "      <td>31</td>\n",
              "      <td>181</td>\n",
              "      <td>70</td>\n",
              "      <td>Manchester City</td>\n",
              "      <td>...</td>\n",
              "      <td>75</td>\n",
              "      <td>66</td>\n",
              "      <td>88</td>\n",
              "      <td>94</td>\n",
              "      <td>83</td>\n",
              "      <td>89</td>\n",
              "      <td>68</td>\n",
              "      <td>65</td>\n",
              "      <td>53</td>\n",
              "      <td>13</td>\n",
              "    </tr>\n",
              "    <tr>\n",
              "      <th>4</th>\n",
              "      <td>K. Mbappé</td>\n",
              "      <td>91</td>\n",
              "      <td>95</td>\n",
              "      <td>ST,LW</td>\n",
              "      <td>ST</td>\n",
              "      <td>France</td>\n",
              "      <td>23</td>\n",
              "      <td>182</td>\n",
              "      <td>73</td>\n",
              "      <td>Paris Saint-Germain</td>\n",
              "      <td>...</td>\n",
              "      <td>64</td>\n",
              "      <td>38</td>\n",
              "      <td>92</td>\n",
              "      <td>83</td>\n",
              "      <td>80</td>\n",
              "      <td>88</td>\n",
              "      <td>26</td>\n",
              "      <td>34</td>\n",
              "      <td>32</td>\n",
              "      <td>6</td>\n",
              "    </tr>\n",
              "  </tbody>\n",
              "</table>\n",
              "<p>5 rows × 52 columns</p>\n",
              "</div>\n",
              "    <div class=\"colab-df-buttons\">\n",
              "\n",
              "  <div class=\"colab-df-container\">\n",
              "    <button class=\"colab-df-convert\" onclick=\"convertToInteractive('df-b936a13e-cf0c-4d35-97ed-abdc54b386f7')\"\n",
              "            title=\"Convert this dataframe to an interactive table.\"\n",
              "            style=\"display:none;\">\n",
              "\n",
              "  <svg xmlns=\"http://www.w3.org/2000/svg\" height=\"24px\" viewBox=\"0 -960 960 960\">\n",
              "    <path d=\"M120-120v-720h720v720H120Zm60-500h600v-160H180v160Zm220 220h160v-160H400v160Zm0 220h160v-160H400v160ZM180-400h160v-160H180v160Zm440 0h160v-160H620v160ZM180-180h160v-160H180v160Zm440 0h160v-160H620v160Z\"/>\n",
              "  </svg>\n",
              "    </button>\n",
              "\n",
              "  <style>\n",
              "    .colab-df-container {\n",
              "      display:flex;\n",
              "      gap: 12px;\n",
              "    }\n",
              "\n",
              "    .colab-df-convert {\n",
              "      background-color: #E8F0FE;\n",
              "      border: none;\n",
              "      border-radius: 50%;\n",
              "      cursor: pointer;\n",
              "      display: none;\n",
              "      fill: #1967D2;\n",
              "      height: 32px;\n",
              "      padding: 0 0 0 0;\n",
              "      width: 32px;\n",
              "    }\n",
              "\n",
              "    .colab-df-convert:hover {\n",
              "      background-color: #E2EBFA;\n",
              "      box-shadow: 0px 1px 2px rgba(60, 64, 67, 0.3), 0px 1px 3px 1px rgba(60, 64, 67, 0.15);\n",
              "      fill: #174EA6;\n",
              "    }\n",
              "\n",
              "    .colab-df-buttons div {\n",
              "      margin-bottom: 4px;\n",
              "    }\n",
              "\n",
              "    [theme=dark] .colab-df-convert {\n",
              "      background-color: #3B4455;\n",
              "      fill: #D2E3FC;\n",
              "    }\n",
              "\n",
              "    [theme=dark] .colab-df-convert:hover {\n",
              "      background-color: #434B5C;\n",
              "      box-shadow: 0px 1px 3px 1px rgba(0, 0, 0, 0.15);\n",
              "      filter: drop-shadow(0px 1px 2px rgba(0, 0, 0, 0.3));\n",
              "      fill: #FFFFFF;\n",
              "    }\n",
              "  </style>\n",
              "\n",
              "    <script>\n",
              "      const buttonEl =\n",
              "        document.querySelector('#df-b936a13e-cf0c-4d35-97ed-abdc54b386f7 button.colab-df-convert');\n",
              "      buttonEl.style.display =\n",
              "        google.colab.kernel.accessAllowed ? 'block' : 'none';\n",
              "\n",
              "      async function convertToInteractive(key) {\n",
              "        const element = document.querySelector('#df-b936a13e-cf0c-4d35-97ed-abdc54b386f7');\n",
              "        const dataTable =\n",
              "          await google.colab.kernel.invokeFunction('convertToInteractive',\n",
              "                                                    [key], {});\n",
              "        if (!dataTable) return;\n",
              "\n",
              "        const docLinkHtml = 'Like what you see? Visit the ' +\n",
              "          '<a target=\"_blank\" href=https://colab.research.google.com/notebooks/data_table.ipynb>data table notebook</a>'\n",
              "          + ' to learn more about interactive tables.';\n",
              "        element.innerHTML = '';\n",
              "        dataTable['output_type'] = 'display_data';\n",
              "        await google.colab.output.renderOutput(dataTable, element);\n",
              "        const docLink = document.createElement('div');\n",
              "        docLink.innerHTML = docLinkHtml;\n",
              "        element.appendChild(docLink);\n",
              "      }\n",
              "    </script>\n",
              "  </div>\n",
              "\n",
              "\n",
              "<div id=\"df-5fa39d93-bb11-4ea8-9d8b-065945d148dc\">\n",
              "  <button class=\"colab-df-quickchart\" onclick=\"quickchart('df-5fa39d93-bb11-4ea8-9d8b-065945d148dc')\"\n",
              "            title=\"Suggest charts.\"\n",
              "            style=\"display:none;\">\n",
              "\n",
              "<svg xmlns=\"http://www.w3.org/2000/svg\" height=\"24px\"viewBox=\"0 0 24 24\"\n",
              "     width=\"24px\">\n",
              "    <g>\n",
              "        <path d=\"M19 3H5c-1.1 0-2 .9-2 2v14c0 1.1.9 2 2 2h14c1.1 0 2-.9 2-2V5c0-1.1-.9-2-2-2zM9 17H7v-7h2v7zm4 0h-2V7h2v10zm4 0h-2v-4h2v4z\"/>\n",
              "    </g>\n",
              "</svg>\n",
              "  </button>\n",
              "\n",
              "<style>\n",
              "  .colab-df-quickchart {\n",
              "    background-color: #E8F0FE;\n",
              "    border: none;\n",
              "    border-radius: 50%;\n",
              "    cursor: pointer;\n",
              "    display: none;\n",
              "    fill: #1967D2;\n",
              "    height: 32px;\n",
              "    padding: 0 0 0 0;\n",
              "    width: 32px;\n",
              "  }\n",
              "\n",
              "  .colab-df-quickchart:hover {\n",
              "    background-color: #E2EBFA;\n",
              "    box-shadow: 0px 1px 2px rgba(60, 64, 67, 0.3), 0px 1px 3px 1px rgba(60, 64, 67, 0.15);\n",
              "    fill: #174EA6;\n",
              "  }\n",
              "\n",
              "  [theme=dark] .colab-df-quickchart {\n",
              "    background-color: #3B4455;\n",
              "    fill: #D2E3FC;\n",
              "  }\n",
              "\n",
              "  [theme=dark] .colab-df-quickchart:hover {\n",
              "    background-color: #434B5C;\n",
              "    box-shadow: 0px 1px 3px 1px rgba(0, 0, 0, 0.15);\n",
              "    filter: drop-shadow(0px 1px 2px rgba(0, 0, 0, 0.3));\n",
              "    fill: #FFFFFF;\n",
              "  }\n",
              "</style>\n",
              "\n",
              "  <script>\n",
              "    async function quickchart(key) {\n",
              "      const charts = await google.colab.kernel.invokeFunction(\n",
              "          'suggestCharts', [key], {});\n",
              "    }\n",
              "    (() => {\n",
              "      let quickchartButtonEl =\n",
              "        document.querySelector('#df-5fa39d93-bb11-4ea8-9d8b-065945d148dc button');\n",
              "      quickchartButtonEl.style.display =\n",
              "        google.colab.kernel.accessAllowed ? 'block' : 'none';\n",
              "    })();\n",
              "  </script>\n",
              "</div>\n",
              "    </div>\n",
              "  </div>\n"
            ]
          },
          "metadata": {},
          "execution_count": 41
        }
      ],
      "source": [
        "df.head(5)"
      ]
    },
    {
      "cell_type": "code",
      "execution_count": null,
      "metadata": {
        "id": "I5bbkEMipZqF"
      },
      "outputs": [],
      "source": [
        "# Drop rows with missing values\n",
        "df.dropna(subset=['Age'], inplace=True)"
      ]
    },
    {
      "cell_type": "code",
      "source": [
        "import pandas as pd\n",
        "from sklearn.ensemble import RandomForestRegressor\n",
        "from sklearn.model_selection import train_test_split\n",
        "from sklearn.preprocessing import LabelEncoder\n",
        "import matplotlib.pyplot as plt\n",
        "import seaborn as sns\n",
        "import statsmodels.api as sm"
      ],
      "metadata": {
        "id": "eACSCO_11evn"
      },
      "execution_count": null,
      "outputs": []
    },
    {
      "cell_type": "code",
      "source": [
        "# Convert categorical variables to numerical using Label Encoding\n",
        "label_encoders = {}\n",
        "for column in df.select_dtypes(include=['object']).columns:\n",
        "    le = LabelEncoder()\n",
        "    df[column] = le.fit_transform(df[column])\n",
        "    label_encoders[column] = le"
      ],
      "metadata": {
        "id": "_Y4MYeZh6Sws"
      },
      "execution_count": null,
      "outputs": []
    },
    {
      "cell_type": "code",
      "source": [
        "# Split the data into input features (X) and output variable (y)\n",
        "X = df.drop('Overall', axis=1)\n",
        "y = df['Overall']"
      ],
      "metadata": {
        "id": "M1YFGRmJ43E3"
      },
      "execution_count": null,
      "outputs": []
    },
    {
      "cell_type": "code",
      "source": [
        "# Split the data into training and test set\n",
        "X_train, X_test, y_train, y_test = train_test_split(X, y, test_size=0.2, random_state=42)"
      ],
      "metadata": {
        "id": "bOTBnhGr5Vg0"
      },
      "execution_count": null,
      "outputs": []
    },
    {
      "cell_type": "code",
      "source": [
        "# Create the random forest model and fit to the training data\n",
        "rf = RandomForestRegressor(n_estimators=100, random_state=42)\n",
        "rf.fit(X_train, y_train)"
      ],
      "metadata": {
        "colab": {
          "base_uri": "https://localhost:8080/",
          "height": 74
        },
        "id": "JZxOCjra5aQy",
        "outputId": "d35c4474-dd56-4104-fc24-d4753c061be9"
      },
      "execution_count": null,
      "outputs": [
        {
          "output_type": "execute_result",
          "data": {
            "text/plain": [
              "RandomForestRegressor(random_state=42)"
            ],
            "text/html": [
              "<style>#sk-container-id-4 {color: black;background-color: white;}#sk-container-id-4 pre{padding: 0;}#sk-container-id-4 div.sk-toggleable {background-color: white;}#sk-container-id-4 label.sk-toggleable__label {cursor: pointer;display: block;width: 100%;margin-bottom: 0;padding: 0.3em;box-sizing: border-box;text-align: center;}#sk-container-id-4 label.sk-toggleable__label-arrow:before {content: \"▸\";float: left;margin-right: 0.25em;color: #696969;}#sk-container-id-4 label.sk-toggleable__label-arrow:hover:before {color: black;}#sk-container-id-4 div.sk-estimator:hover label.sk-toggleable__label-arrow:before {color: black;}#sk-container-id-4 div.sk-toggleable__content {max-height: 0;max-width: 0;overflow: hidden;text-align: left;background-color: #f0f8ff;}#sk-container-id-4 div.sk-toggleable__content pre {margin: 0.2em;color: black;border-radius: 0.25em;background-color: #f0f8ff;}#sk-container-id-4 input.sk-toggleable__control:checked~div.sk-toggleable__content {max-height: 200px;max-width: 100%;overflow: auto;}#sk-container-id-4 input.sk-toggleable__control:checked~label.sk-toggleable__label-arrow:before {content: \"▾\";}#sk-container-id-4 div.sk-estimator input.sk-toggleable__control:checked~label.sk-toggleable__label {background-color: #d4ebff;}#sk-container-id-4 div.sk-label input.sk-toggleable__control:checked~label.sk-toggleable__label {background-color: #d4ebff;}#sk-container-id-4 input.sk-hidden--visually {border: 0;clip: rect(1px 1px 1px 1px);clip: rect(1px, 1px, 1px, 1px);height: 1px;margin: -1px;overflow: hidden;padding: 0;position: absolute;width: 1px;}#sk-container-id-4 div.sk-estimator {font-family: monospace;background-color: #f0f8ff;border: 1px dotted black;border-radius: 0.25em;box-sizing: border-box;margin-bottom: 0.5em;}#sk-container-id-4 div.sk-estimator:hover {background-color: #d4ebff;}#sk-container-id-4 div.sk-parallel-item::after {content: \"\";width: 100%;border-bottom: 1px solid gray;flex-grow: 1;}#sk-container-id-4 div.sk-label:hover label.sk-toggleable__label {background-color: #d4ebff;}#sk-container-id-4 div.sk-serial::before {content: \"\";position: absolute;border-left: 1px solid gray;box-sizing: border-box;top: 0;bottom: 0;left: 50%;z-index: 0;}#sk-container-id-4 div.sk-serial {display: flex;flex-direction: column;align-items: center;background-color: white;padding-right: 0.2em;padding-left: 0.2em;position: relative;}#sk-container-id-4 div.sk-item {position: relative;z-index: 1;}#sk-container-id-4 div.sk-parallel {display: flex;align-items: stretch;justify-content: center;background-color: white;position: relative;}#sk-container-id-4 div.sk-item::before, #sk-container-id-4 div.sk-parallel-item::before {content: \"\";position: absolute;border-left: 1px solid gray;box-sizing: border-box;top: 0;bottom: 0;left: 50%;z-index: -1;}#sk-container-id-4 div.sk-parallel-item {display: flex;flex-direction: column;z-index: 1;position: relative;background-color: white;}#sk-container-id-4 div.sk-parallel-item:first-child::after {align-self: flex-end;width: 50%;}#sk-container-id-4 div.sk-parallel-item:last-child::after {align-self: flex-start;width: 50%;}#sk-container-id-4 div.sk-parallel-item:only-child::after {width: 0;}#sk-container-id-4 div.sk-dashed-wrapped {border: 1px dashed gray;margin: 0 0.4em 0.5em 0.4em;box-sizing: border-box;padding-bottom: 0.4em;background-color: white;}#sk-container-id-4 div.sk-label label {font-family: monospace;font-weight: bold;display: inline-block;line-height: 1.2em;}#sk-container-id-4 div.sk-label-container {text-align: center;}#sk-container-id-4 div.sk-container {/* jupyter's `normalize.less` sets `[hidden] { display: none; }` but bootstrap.min.css set `[hidden] { display: none !important; }` so we also need the `!important` here to be able to override the default hidden behavior on the sphinx rendered scikit-learn.org. See: https://github.com/scikit-learn/scikit-learn/issues/21755 */display: inline-block !important;position: relative;}#sk-container-id-4 div.sk-text-repr-fallback {display: none;}</style><div id=\"sk-container-id-4\" class=\"sk-top-container\"><div class=\"sk-text-repr-fallback\"><pre>RandomForestRegressor(random_state=42)</pre><b>In a Jupyter environment, please rerun this cell to show the HTML representation or trust the notebook. <br />On GitHub, the HTML representation is unable to render, please try loading this page with nbviewer.org.</b></div><div class=\"sk-container\" hidden><div class=\"sk-item\"><div class=\"sk-estimator sk-toggleable\"><input class=\"sk-toggleable__control sk-hidden--visually\" id=\"sk-estimator-id-4\" type=\"checkbox\" checked><label for=\"sk-estimator-id-4\" class=\"sk-toggleable__label sk-toggleable__label-arrow\">RandomForestRegressor</label><div class=\"sk-toggleable__content\"><pre>RandomForestRegressor(random_state=42)</pre></div></div></div></div></div>"
            ]
          },
          "metadata": {},
          "execution_count": 47
        }
      ]
    },
    {
      "cell_type": "code",
      "source": [
        "# Get feature importances from the model\n",
        "feature_importances = rf.feature_importances_"
      ],
      "metadata": {
        "id": "4-8sfpUX5eu4"
      },
      "execution_count": null,
      "outputs": []
    },
    {
      "cell_type": "code",
      "source": [
        "# Create a DataFrame for the importances and sort by importance\n",
        "features_df = pd.DataFrame({\n",
        "    'Feature': X.columns,\n",
        "    'Importance': feature_importances\n",
        "})\n",
        "features_df = features_df.sort_values(by='Importance', ascending=False)"
      ],
      "metadata": {
        "id": "T1NpjJ1L60bR"
      },
      "execution_count": null,
      "outputs": []
    },
    {
      "cell_type": "code",
      "source": [
        "# Display the top 10 features\n",
        "print(features_df.head(10))"
      ],
      "metadata": {
        "colab": {
          "base_uri": "https://localhost:8080/"
        },
        "id": "b-ad0Oh264D6",
        "outputId": "c30def38-c6a0-45ef-d70b-b4ba1a4c92bd"
      },
      "execution_count": null,
      "outputs": [
        {
          "output_type": "stream",
          "name": "stdout",
          "text": [
            "            Feature  Importance\n",
            "34        Reactions    0.688344\n",
            "1         Potential    0.129050\n",
            "18  Dribbling_Total    0.041265\n",
            "19  Defending_Total    0.027931\n",
            "5               Age    0.021464\n",
            "16   Shooting_Total    0.014050\n",
            "48  Standing_Tackle    0.007632\n",
            "21         Crossing    0.007389\n",
            "17    Passing_Total    0.005441\n",
            "30      BallControl    0.004475\n"
          ]
        }
      ]
    },
    {
      "cell_type": "code",
      "source": [
        "# Visualize the top 10 features\n",
        "plt.figure(figsize=(12, 8))\n",
        "sns.barplot(data=features_df.head(10), x='Importance', y='Feature')\n",
        "plt.title('Top 10 Important Features')\n",
        "plt.show()"
      ],
      "metadata": {
        "colab": {
          "base_uri": "https://localhost:8080/",
          "height": 686
        },
        "id": "oImxWsIY68wo",
        "outputId": "cff76fa3-008b-4a10-aaf8-7b0b9f3b133f"
      },
      "execution_count": null,
      "outputs": [
        {
          "output_type": "display_data",
          "data": {
            "text/plain": [
              "<Figure size 1200x800 with 1 Axes>"
            ],
            "image/png": "[encoded data removed]"
          },
          "metadata": {}
        }
      ]
    },
    {
      "cell_type": "code",
      "source": [
        "# Group by team and calculate average scores for physical attributes and overall rating\n",
        "team_strengths = df.groupby(\"Club_Name\")[['Strength', 'Stamina', 'Sprint_Speed', 'Acceleration', 'Agility', 'Overall']].mean()\n",
        "\n",
        "# Using multiple regression, let's predict 'Overall' (proxy for performance) using physical attributes\n",
        "X = team_strengths[['Strength', 'Stamina', 'Sprint_Speed', 'Acceleration', 'Agility']]\n",
        "y = team_strengths['Overall']"
      ],
      "metadata": {
        "id": "Ui8xU7Kg_kSD"
      },
      "execution_count": null,
      "outputs": []
    },
    {
      "cell_type": "code",
      "source": [
        "# Add constant\n",
        "X = sm.add_constant(X)\n",
        "\n",
        "# Create model\n",
        "model = sm.OLS(y, X).fit()\n",
        "\n",
        "# Display results\n",
        "print(model.summary())"
      ],
      "metadata": {
        "id": "ZFEQ0TZuBC40",
        "colab": {
          "base_uri": "https://localhost:8080/"
        },
        "outputId": "270ad46a-1eff-4355-818d-f602b8e4dc28"
      },
      "execution_count": null,
      "outputs": [
        {
          "output_type": "stream",
          "name": "stdout",
          "text": [
            "                            OLS Regression Results                            \n",
            "==============================================================================\n",
            "Dep. Variable:                Overall   R-squared:                       0.163\n",
            "Model:                            OLS   Adj. R-squared:                  0.156\n",
            "Method:                 Least Squares   F-statistic:                     25.34\n",
            "Date:                Mon, 21 Aug 2023   Prob (F-statistic):           2.18e-23\n",
            "Time:                        09:55:39   Log-Likelihood:                -1648.0\n",
            "No. Observations:                 658   AIC:                             3308.\n",
            "Df Residuals:                     652   BIC:                             3335.\n",
            "Df Model:                           5                                         \n",
            "Covariance Type:            nonrobust                                         \n",
            "================================================================================\n",
            "                   coef    std err          t      P>|t|      [0.025      0.975]\n",
            "--------------------------------------------------------------------------------\n",
            "const           40.9821      2.999     13.664      0.000      35.093      46.872\n",
            "Strength         0.2409      0.034      7.009      0.000       0.173       0.308\n",
            "Stamina         -0.1431      0.030     -4.795      0.000      -0.202      -0.084\n",
            "Sprint_Speed     0.2477      0.061      4.090      0.000       0.129       0.367\n",
            "Acceleration    -0.0287      0.070     -0.411      0.681      -0.166       0.108\n",
            "Agility          0.1086      0.040      2.723      0.007       0.030       0.187\n",
            "==============================================================================\n",
            "Omnibus:                       99.004   Durbin-Watson:                   1.972\n",
            "Prob(Omnibus):                  0.000   Jarque-Bera (JB):              168.070\n",
            "Skew:                           0.934   Prob(JB):                     3.19e-37\n",
            "Kurtosis:                       4.625   Cond. No.                     3.88e+03\n",
            "==============================================================================\n",
            "\n",
            "Notes:\n",
            "[1] Standard Errors assume that the covariance matrix of the errors is correctly specified.\n",
            "[2] The condition number is large, 3.88e+03. This might indicate that there are\n",
            "strong multicollinearity or other numerical problems.\n"
          ]
        }
      ]
    },
    {
      "cell_type": "code",
      "source": [
        "df.columns"
      ],
      "metadata": {
        "colab": {
          "base_uri": "https://localhost:8080/"
        },
        "id": "ZeQPcpwV4cKS",
        "outputId": "54d4889b-8e5f-480d-bd2d-4603e8d41164"
      },
      "execution_count": null,
      "outputs": [
        {
          "output_type": "execute_result",
          "data": {
            "text/plain": [
              "Index(['Name', 'Overall', 'Potential', 'Positions_Played', 'Best_Position',\n",
              "       'Nationality', 'Age', 'Height(in cm)', 'Weight(in kg)', 'Club_Name',\n",
              "       'Preferred_Foot', 'Weak_Foot_Rating', 'Skill_Moves',\n",
              "       'International_Reputation', 'Attacking_Work_Rate',\n",
              "       'Defensive_Work_Rate', 'Pace_Total', 'Shooting_Total', 'Passing_Total',\n",
              "       'Dribbling_Total', 'Defending_Total', 'Physicality_Total', 'Crossing',\n",
              "       'Finishing', 'Heading_Accuracy', 'Short_Passing', 'Volleys',\n",
              "       'Dribbling', 'Curve', 'Freekick_Accuracy', 'LongPassing', 'BallControl',\n",
              "       'Acceleration', 'Sprint_Speed', 'Agility', 'Reactions', 'Balance',\n",
              "       'Shot_Power', 'Jumping', 'Stamina', 'Strength', 'Long_Shots',\n",
              "       'Aggression', 'Interceptions', 'Positioning', 'Vision', 'Penalties',\n",
              "       'Composure', 'Marking', 'Standing_Tackle', 'Sliding_Tackle',\n",
              "       'Goalkeeper_Reflexes'],\n",
              "      dtype='object')"
            ]
          },
          "metadata": {},
          "execution_count": 54
        }
      ]
    },
    {
      "cell_type": "code",
      "source": [
        "#Hypothesis testing\n",
        "# Selecting independent variables\n",
        "independent_vars = ['Potential', 'Positions_Played', 'Best_Position',\n",
        "       'Nationality', 'Age', 'Height(in cm)', 'Weight(in kg)', 'Club_Name',\n",
        "       'Preferred_Foot', 'Weak_Foot_Rating', 'Skill_Moves',\n",
        "       'International_Reputation', 'Attacking_Work_Rate',\n",
        "       'Defensive_Work_Rate', 'Pace_Total', 'Shooting_Total', 'Passing_Total',\n",
        "       'Dribbling_Total', 'Defending_Total', 'Physicality_Total', 'Crossing',\n",
        "       'Finishing', 'Heading_Accuracy', 'Short_Passing', 'Volleys',\n",
        "       'Dribbling', 'Curve', 'Freekick_Accuracy', 'LongPassing', 'BallControl',\n",
        "       'Acceleration', 'Sprint_Speed', 'Agility', 'Reactions', 'Balance',\n",
        "       'Shot_Power', 'Jumping', 'Stamina', 'Strength', 'Long_Shots',\n",
        "       'Aggression', 'Interceptions', 'Positioning', 'Vision', 'Penalties',\n",
        "       'Composure', 'Marking', 'Standing_Tackle', 'Sliding_Tackle',\n",
        "       'Goalkeeper_Reflexes']\n",
        "X = df[independent_vars]"
      ],
      "metadata": {
        "id": "LrUtVWb_Jr6x"
      },
      "execution_count": null,
      "outputs": []
    },
    {
      "cell_type": "code",
      "source": [
        "# Adding a constant to the model (intercept)\n",
        "X = sm.add_constant(X)"
      ],
      "metadata": {
        "id": "bCoJBTwQ4Z9_"
      },
      "execution_count": null,
      "outputs": []
    },
    {
      "cell_type": "code",
      "source": [
        "# Dependent variable\n",
        "y = df['Overall']"
      ],
      "metadata": {
        "id": "Jj99ZRpZ42gI"
      },
      "execution_count": null,
      "outputs": []
    },
    {
      "cell_type": "code",
      "source": [
        "# Fit the regression model\n",
        "model = sm.OLS(y, X).fit()"
      ],
      "metadata": {
        "id": "Tq9YFeUS46HH"
      },
      "execution_count": null,
      "outputs": []
    },
    {
      "cell_type": "code",
      "source": [
        "# Print the summary statistics of the regression model\n",
        "print(model.summary())"
      ],
      "metadata": {
        "colab": {
          "base_uri": "https://localhost:8080/"
        },
        "id": "q3G65KPI5BZU",
        "outputId": "3913864e-88a6-4d23-adcc-356e6adb64ef"
      },
      "execution_count": null,
      "outputs": [
        {
          "output_type": "stream",
          "name": "stdout",
          "text": [
            "                            OLS Regression Results                            \n",
            "==============================================================================\n",
            "Dep. Variable:                Overall   R-squared:                       0.900\n",
            "Model:                            OLS   Adj. R-squared:                  0.899\n",
            "Method:                 Least Squares   F-statistic:                     1827.\n",
            "Date:                Mon, 21 Aug 2023   Prob (F-statistic):               0.00\n",
            "Time:                        09:55:39   Log-Likelihood:                -18088.\n",
            "No. Observations:               10212   AIC:                         3.628e+04\n",
            "Df Residuals:                   10161   BIC:                         3.665e+04\n",
            "Df Model:                          50                                         \n",
            "Covariance Type:            nonrobust                                         \n",
            "============================================================================================\n",
            "                               coef    std err          t      P>|t|      [0.025      0.975]\n",
            "--------------------------------------------------------------------------------------------\n",
            "const                        1.4312      0.851      1.682      0.093      -0.237       3.099\n",
            "Potential                    0.4269      0.005     80.185      0.000       0.416       0.437\n",
            "Positions_Played            -0.0001      0.000     -0.674      0.501      -0.000       0.000\n",
            "Best_Position                0.0067      0.006      1.202      0.229      -0.004       0.018\n",
            "Nationality                 -0.0017      0.000     -4.925      0.000      -0.002      -0.001\n",
            "Age                          0.3187      0.006     55.254      0.000       0.307       0.330\n",
            "Height(in cm)               -0.0177      0.004     -4.181      0.000      -0.026      -0.009\n",
            "Weight(in kg)                0.0108      0.004      3.069      0.002       0.004       0.018\n",
            "Club_Name                   -0.0002    7.5e-05     -2.300      0.021      -0.000   -2.55e-05\n",
            "Preferred_Foot              -0.0993      0.034     -2.888      0.004      -0.167      -0.032\n",
            "Weak_Foot_Rating            -0.0415      0.022     -1.852      0.064      -0.085       0.002\n",
            "Skill_Moves                  0.2836      0.033      8.473      0.000       0.218       0.349\n",
            "International_Reputation     0.6065      0.038     15.753      0.000       0.531       0.682\n",
            "Attacking_Work_Rate         -0.0198      0.017     -1.169      0.242      -0.053       0.013\n",
            "Defensive_Work_Rate         -0.0391      0.018     -2.157      0.031      -0.075      -0.004\n",
            "Pace_Total                   0.0619      0.012      5.051      0.000       0.038       0.086\n",
            "Shooting_Total              -0.0116      0.012     -0.992      0.321      -0.035       0.011\n",
            "Passing_Total                0.0524      0.008      6.581      0.000       0.037       0.068\n",
            "Dribbling_Total              0.1323      0.012     11.272      0.000       0.109       0.155\n",
            "Defending_Total              0.0085      0.011      0.749      0.454      -0.014       0.031\n",
            "Physicality_Total            0.0520      0.008      6.789      0.000       0.037       0.067\n",
            "Crossing                     0.0039      0.003      1.478      0.140      -0.001       0.009\n",
            "Finishing                    0.0176      0.006      3.053      0.002       0.006       0.029\n",
            "Heading_Accuracy             0.0374      0.002     15.881      0.000       0.033       0.042\n",
            "Short_Passing                0.0465      0.005     10.222      0.000       0.038       0.055\n",
            "Volleys                     -0.0046      0.002     -2.110      0.035      -0.009      -0.000\n",
            "Dribbling                   -0.0491      0.006     -7.928      0.000      -0.061      -0.037\n",
            "Curve                       -0.0026      0.002     -1.190      0.234      -0.007       0.002\n",
            "Freekick_Accuracy            0.0024      0.002      1.188      0.235      -0.002       0.006\n",
            "LongPassing                 -0.0079      0.003     -2.564      0.010      -0.014      -0.002\n",
            "BallControl                  0.0292      0.005      5.768      0.000       0.019       0.039\n",
            "Acceleration                -0.0071      0.006     -1.126      0.260      -0.019       0.005\n",
            "Sprint_Speed                -0.0060      0.007     -0.854      0.393      -0.020       0.008\n",
            "Agility                     -0.0169      0.003     -6.497      0.000      -0.022      -0.012\n",
            "Reactions                    0.1657      0.004     44.706      0.000       0.158       0.173\n",
            "Balance                     -0.0159      0.002     -7.074      0.000      -0.020      -0.012\n",
            "Shot_Power                   0.0129      0.003      3.782      0.000       0.006       0.020\n",
            "Jumping                     -0.0062      0.002     -4.076      0.000      -0.009      -0.003\n",
            "Stamina                      0.0069      0.003      2.635      0.008       0.002       0.012\n",
            "Strength                    -0.0071      0.004     -1.813      0.070      -0.015       0.001\n",
            "Long_Shots                  -0.0073      0.003     -2.141      0.032      -0.014      -0.001\n",
            "Aggression                  -0.0089      0.002     -3.928      0.000      -0.013      -0.004\n",
            "Interceptions               -0.0131      0.003     -3.770      0.000      -0.020      -0.006\n",
            "Positioning                 -0.0256      0.003     -9.912      0.000      -0.031      -0.021\n",
            "Vision                      -0.0269      0.003    -10.051      0.000      -0.032      -0.022\n",
            "Penalties                   -0.0028      0.002     -1.336      0.182      -0.007       0.001\n",
            "Composure                    0.0278      0.003     10.760      0.000       0.023       0.033\n",
            "Marking                      0.0138      0.004      3.434      0.001       0.006       0.022\n",
            "Standing_Tackle             -0.0033      0.005     -0.660      0.509      -0.013       0.006\n",
            "Sliding_Tackle               0.0063      0.004      1.702      0.089      -0.001       0.013\n",
            "Goalkeeper_Reflexes         -0.0022      0.005     -0.479      0.632      -0.011       0.007\n",
            "==============================================================================\n",
            "Omnibus:                      101.996   Durbin-Watson:                   1.746\n",
            "Prob(Omnibus):                  0.000   Jarque-Bera (JB):              160.408\n",
            "Skew:                          -0.076   Prob(JB):                     1.47e-35\n",
            "Kurtosis:                       3.595   Cond. No.                     3.60e+04\n",
            "==============================================================================\n",
            "\n",
            "Notes:\n",
            "[1] Standard Errors assume that the covariance matrix of the errors is correctly specified.\n",
            "[2] The condition number is large, 3.6e+04. This might indicate that there are\n",
            "strong multicollinearity or other numerical problems.\n"
          ]
        }
      ]
    },
    {
      "cell_type": "code",
      "source": [
        "#Using Random Forest to test the hypothesis\n",
        "import pandas as pd\n",
        "from sklearn.ensemble import RandomForestRegressor\n",
        "from sklearn.model_selection import train_test_split\n",
        "from sklearn.metrics import mean_squared_error"
      ],
      "metadata": {
        "id": "UrI_z-Kv5E0E"
      },
      "execution_count": null,
      "outputs": []
    },
    {
      "cell_type": "code",
      "source": [
        "independent_vars = ['Potential', 'Positions_Played', 'Best_Position',\n",
        "       'Nationality', 'Age', 'Height(in cm)', 'Weight(in kg)', 'Club_Name',\n",
        "       'Preferred_Foot', 'Weak_Foot_Rating', 'Skill_Moves',\n",
        "       'International_Reputation', 'Attacking_Work_Rate',\n",
        "       'Defensive_Work_Rate', 'Pace_Total', 'Shooting_Total', 'Passing_Total',\n",
        "       'Dribbling_Total', 'Defending_Total', 'Physicality_Total', 'Crossing',\n",
        "       'Finishing', 'Heading_Accuracy', 'Short_Passing', 'Volleys',\n",
        "       'Dribbling', 'Curve', 'Freekick_Accuracy', 'LongPassing', 'BallControl',\n",
        "       'Acceleration', 'Sprint_Speed', 'Agility', 'Reactions', 'Balance',\n",
        "       'Shot_Power', 'Jumping', 'Stamina', 'Strength', 'Long_Shots',\n",
        "       'Aggression', 'Interceptions', 'Positioning', 'Vision', 'Penalties',\n",
        "       'Composure', 'Marking', 'Standing_Tackle', 'Sliding_Tackle',\n",
        "       'Goalkeeper_Reflexes']\n",
        "X = df[independent_vars]\n",
        "y = df['Overall']"
      ],
      "metadata": {
        "id": "6BPr8XbhAGUg"
      },
      "execution_count": null,
      "outputs": []
    },
    {
      "cell_type": "code",
      "source": [
        "# Splitting the dataset into training and testing sets\n",
        "X_train, X_test, y_train, y_test = train_test_split(X, y, test_size=0.2, random_state=42)"
      ],
      "metadata": {
        "id": "QBW1kVFtAWt5"
      },
      "execution_count": null,
      "outputs": []
    },
    {
      "cell_type": "code",
      "source": [
        "# Initialize and train a Random Forest model\n",
        "rf_model = RandomForestRegressor(n_estimators=100, random_state=42)\n",
        "rf_model.fit(X_train, y_train)"
      ],
      "metadata": {
        "colab": {
          "base_uri": "https://localhost:8080/",
          "height": 74
        },
        "id": "j5KVgY8ZAb-X",
        "outputId": "35a3c859-ddc2-4f1a-9046-3133397c158e"
      },
      "execution_count": null,
      "outputs": [
        {
          "output_type": "execute_result",
          "data": {
            "text/plain": [
              "RandomForestRegressor(random_state=42)"
            ],
            "text/html": [
              "<style>#sk-container-id-5 {color: black;background-color: white;}#sk-container-id-5 pre{padding: 0;}#sk-container-id-5 div.sk-toggleable {background-color: white;}#sk-container-id-5 label.sk-toggleable__label {cursor: pointer;display: block;width: 100%;margin-bottom: 0;padding: 0.3em;box-sizing: border-box;text-align: center;}#sk-container-id-5 label.sk-toggleable__label-arrow:before {content: \"▸\";float: left;margin-right: 0.25em;color: #696969;}#sk-container-id-5 label.sk-toggleable__label-arrow:hover:before {color: black;}#sk-container-id-5 div.sk-estimator:hover label.sk-toggleable__label-arrow:before {color: black;}#sk-container-id-5 div.sk-toggleable__content {max-height: 0;max-width: 0;overflow: hidden;text-align: left;background-color: #f0f8ff;}#sk-container-id-5 div.sk-toggleable__content pre {margin: 0.2em;color: black;border-radius: 0.25em;background-color: #f0f8ff;}#sk-container-id-5 input.sk-toggleable__control:checked~div.sk-toggleable__content {max-height: 200px;max-width: 100%;overflow: auto;}#sk-container-id-5 input.sk-toggleable__control:checked~label.sk-toggleable__label-arrow:before {content: \"▾\";}#sk-container-id-5 div.sk-estimator input.sk-toggleable__control:checked~label.sk-toggleable__label {background-color: #d4ebff;}#sk-container-id-5 div.sk-label input.sk-toggleable__control:checked~label.sk-toggleable__label {background-color: #d4ebff;}#sk-container-id-5 input.sk-hidden--visually {border: 0;clip: rect(1px 1px 1px 1px);clip: rect(1px, 1px, 1px, 1px);height: 1px;margin: -1px;overflow: hidden;padding: 0;position: absolute;width: 1px;}#sk-container-id-5 div.sk-estimator {font-family: monospace;background-color: #f0f8ff;border: 1px dotted black;border-radius: 0.25em;box-sizing: border-box;margin-bottom: 0.5em;}#sk-container-id-5 div.sk-estimator:hover {background-color: #d4ebff;}#sk-container-id-5 div.sk-parallel-item::after {content: \"\";width: 100%;border-bottom: 1px solid gray;flex-grow: 1;}#sk-container-id-5 div.sk-label:hover label.sk-toggleable__label {background-color: #d4ebff;}#sk-container-id-5 div.sk-serial::before {content: \"\";position: absolute;border-left: 1px solid gray;box-sizing: border-box;top: 0;bottom: 0;left: 50%;z-index: 0;}#sk-container-id-5 div.sk-serial {display: flex;flex-direction: column;align-items: center;background-color: white;padding-right: 0.2em;padding-left: 0.2em;position: relative;}#sk-container-id-5 div.sk-item {position: relative;z-index: 1;}#sk-container-id-5 div.sk-parallel {display: flex;align-items: stretch;justify-content: center;background-color: white;position: relative;}#sk-container-id-5 div.sk-item::before, #sk-container-id-5 div.sk-parallel-item::before {content: \"\";position: absolute;border-left: 1px solid gray;box-sizing: border-box;top: 0;bottom: 0;left: 50%;z-index: -1;}#sk-container-id-5 div.sk-parallel-item {display: flex;flex-direction: column;z-index: 1;position: relative;background-color: white;}#sk-container-id-5 div.sk-parallel-item:first-child::after {align-self: flex-end;width: 50%;}#sk-container-id-5 div.sk-parallel-item:last-child::after {align-self: flex-start;width: 50%;}#sk-container-id-5 div.sk-parallel-item:only-child::after {width: 0;}#sk-container-id-5 div.sk-dashed-wrapped {border: 1px dashed gray;margin: 0 0.4em 0.5em 0.4em;box-sizing: border-box;padding-bottom: 0.4em;background-color: white;}#sk-container-id-5 div.sk-label label {font-family: monospace;font-weight: bold;display: inline-block;line-height: 1.2em;}#sk-container-id-5 div.sk-label-container {text-align: center;}#sk-container-id-5 div.sk-container {/* jupyter's `normalize.less` sets `[hidden] { display: none; }` but bootstrap.min.css set `[hidden] { display: none !important; }` so we also need the `!important` here to be able to override the default hidden behavior on the sphinx rendered scikit-learn.org. See: https://github.com/scikit-learn/scikit-learn/issues/21755 */display: inline-block !important;position: relative;}#sk-container-id-5 div.sk-text-repr-fallback {display: none;}</style><div id=\"sk-container-id-5\" class=\"sk-top-container\"><div class=\"sk-text-repr-fallback\"><pre>RandomForestRegressor(random_state=42)</pre><b>In a Jupyter environment, please rerun this cell to show the HTML representation or trust the notebook. <br />On GitHub, the HTML representation is unable to render, please try loading this page with nbviewer.org.</b></div><div class=\"sk-container\" hidden><div class=\"sk-item\"><div class=\"sk-estimator sk-toggleable\"><input class=\"sk-toggleable__control sk-hidden--visually\" id=\"sk-estimator-id-5\" type=\"checkbox\" checked><label for=\"sk-estimator-id-5\" class=\"sk-toggleable__label sk-toggleable__label-arrow\">RandomForestRegressor</label><div class=\"sk-toggleable__content\"><pre>RandomForestRegressor(random_state=42)</pre></div></div></div></div></div>"
            ]
          },
          "metadata": {},
          "execution_count": 63
        }
      ]
    },
    {
      "cell_type": "code",
      "source": [
        "# Predict on the test set\n",
        "y_pred = rf_model.predict(X_test)"
      ],
      "metadata": {
        "id": "p46f_6NVAg31"
      },
      "execution_count": null,
      "outputs": []
    },
    {
      "cell_type": "code",
      "source": [
        "y_pred"
      ],
      "metadata": {
        "colab": {
          "base_uri": "https://localhost:8080/"
        },
        "id": "Z3mIls0OA5CS",
        "outputId": "ce1c12eb-0e73-4aea-8faa-f785b9c24d30"
      },
      "execution_count": null,
      "outputs": [
        {
          "output_type": "execute_result",
          "data": {
            "text/plain": [
              "array([78.61, 75.53, 70.06, ..., 68.15, 74.49, 69.65])"
            ]
          },
          "metadata": {},
          "execution_count": 65
        }
      ]
    },
    {
      "cell_type": "code",
      "source": [
        "# Evaluate the model using RMSE (Root Mean Squared Error)\n",
        "rmse = mean_squared_error(y_test, y_pred, squared=False)\n",
        "print(f\"RMSE: {rmse}\")"
      ],
      "metadata": {
        "colab": {
          "base_uri": "https://localhost:8080/"
        },
        "id": "sq46KdugA7D3",
        "outputId": "ae9cc00b-7794-43c9-dd65-e898fc269451"
      },
      "execution_count": null,
      "outputs": [
        {
          "output_type": "stream",
          "name": "stdout",
          "text": [
            "RMSE: 0.8092001574163243\n"
          ]
        }
      ]
    },
    {
      "cell_type": "code",
      "source": [
        "# Display feature importances\n",
        "importances = pd.DataFrame({\n",
        "    'Feature': X.columns,\n",
        "    'Importance': rf_model.feature_importances_\n",
        "}).sort_values(by='Importance', ascending=False)\n",
        "\n",
        "print(importances)"
      ],
      "metadata": {
        "colab": {
          "base_uri": "https://localhost:8080/"
        },
        "id": "Zm7rYBwSA_xX",
        "outputId": "4ff2d484-7870-4dae-f2dc-ffa447623f03"
      },
      "execution_count": null,
      "outputs": [
        {
          "output_type": "stream",
          "name": "stdout",
          "text": [
            "                     Feature  Importance\n",
            "33                 Reactions    0.688371\n",
            "0                  Potential    0.129093\n",
            "17           Dribbling_Total    0.041277\n",
            "18           Defending_Total    0.027959\n",
            "4                        Age    0.021534\n",
            "15            Shooting_Total    0.014136\n",
            "47           Standing_Tackle    0.007691\n",
            "20                  Crossing    0.007476\n",
            "16             Passing_Total    0.005447\n",
            "29               BallControl    0.004540\n",
            "19         Physicality_Total    0.004247\n",
            "48            Sliding_Tackle    0.003998\n",
            "42               Positioning    0.002924\n",
            "37                   Stamina    0.002322\n",
            "23             Short_Passing    0.002130\n",
            "45                 Composure    0.002086\n",
            "11  International_Reputation    0.001736\n",
            "14                Pace_Total    0.001702\n",
            "31              Sprint_Speed    0.001670\n",
            "25                 Dribbling    0.001654\n",
            "40                Aggression    0.001539\n",
            "22          Heading_Accuracy    0.001536\n",
            "41             Interceptions    0.001469\n",
            "46                   Marking    0.001440\n",
            "38                  Strength    0.001320\n",
            "35                Shot_Power    0.001299\n",
            "1           Positions_Played    0.001272\n",
            "21                 Finishing    0.001256\n",
            "3                Nationality    0.001208\n",
            "7                  Club_Name    0.001193\n",
            "43                    Vision    0.001158\n",
            "30              Acceleration    0.001101\n",
            "49       Goalkeeper_Reflexes    0.001038\n",
            "36                   Jumping    0.000999\n",
            "26                     Curve    0.000979\n",
            "28               LongPassing    0.000967\n",
            "39                Long_Shots    0.000916\n",
            "44                 Penalties    0.000872\n",
            "2              Best_Position    0.000871\n",
            "5              Height(in cm)    0.000835\n",
            "34                   Balance    0.000812\n",
            "6              Weight(in kg)    0.000787\n",
            "27         Freekick_Accuracy    0.000774\n",
            "32                   Agility    0.000771\n",
            "24                   Volleys    0.000744\n",
            "9           Weak_Foot_Rating    0.000214\n",
            "10               Skill_Moves    0.000179\n",
            "13       Defensive_Work_Rate    0.000177\n",
            "12       Attacking_Work_Rate    0.000153\n",
            "8             Preferred_Foot    0.000128\n"
          ]
        }
      ]
    },
    {
      "cell_type": "code",
      "source": [
        "# Sort by importance in descending order and get first 5\n",
        "top_5_importances = importances.sort_values(by='Importance', ascending=False).head(5)\n",
        "\n",
        "# Plotting\n",
        "plt.figure(figsize=(10, 6))\n",
        "plt.barh(top_5_importances['Feature'], top_5_importances['Importance'], align='center')\n",
        "plt.xlabel('Feature Importance')\n",
        "plt.title('Top 5 Features sorted by Importance')\n",
        "plt.gca().invert_yaxis()  # This line is to make sure the most important feature is at the top\n",
        "plt.show()"
      ],
      "metadata": {
        "colab": {
          "base_uri": "https://localhost:8080/"
        },
        "id": "UhJolqblS0FS",
        "outputId": "e3aba16e-4a87-4a4f-9e12-3767c20e2ec9"
      },
      "execution_count": null,
      "outputs": [
        {
          "output_type": "display_data",
          "data": {
            "text/plain": [
              "<Figure size 1000x600 with 1 Axes>"
            ],
            "image/png": "[encoded data removed]"
          },
          "metadata": {}
        }
      ]
    },
    {
      "cell_type": "code",
      "source": [
        "#Using Lasso Regression (L1 Regularization)\n",
        "import numpy as np\n",
        "import pandas as pd\n",
        "from sklearn.model_selection import train_test_split\n",
        "from sklearn.linear_model import Lasso, LinearRegression\n",
        "from sklearn.metrics import mean_squared_error\n",
        "from sklearn.preprocessing import StandardScaler"
      ],
      "metadata": {
        "id": "id5n2lmnBFgo"
      },
      "execution_count": null,
      "outputs": []
    },
    {
      "cell_type": "code",
      "source": [
        "# Split the data into training and test sets\n",
        "X_train, X_test, y_train, y_test = train_test_split(X, y, test_size=0.2, random_state=42)"
      ],
      "metadata": {
        "id": "UPFNpP_VCYZV"
      },
      "execution_count": null,
      "outputs": []
    },
    {
      "cell_type": "code",
      "source": [
        "# Standardize the data, which is important for Lasso\n",
        "scaler = StandardScaler()\n",
        "X_train_scaled = scaler.fit_transform(X_train)\n",
        "X_test_scaled = scaler.transform(X_test)"
      ],
      "metadata": {
        "id": "jOZfxtGHCejg"
      },
      "execution_count": null,
      "outputs": []
    },
    {
      "cell_type": "code",
      "source": [
        "# Use Lasso Regression\n",
        "alpha_value = 0.1  # You might want to fine-tune this using cross-validation\n",
        "lasso = Lasso(alpha=alpha_value)\n",
        "lasso.fit(X_train_scaled, y_train)"
      ],
      "metadata": {
        "colab": {
          "base_uri": "https://localhost:8080/",
          "height": 74
        },
        "id": "BmDjvnEsCoQA",
        "outputId": "6b7a4533-9e68-418d-c010-b66856349ec8"
      },
      "execution_count": null,
      "outputs": [
        {
          "output_type": "execute_result",
          "data": {
            "text/plain": [
              "Lasso(alpha=0.1)"
            ],
            "text/html": [
              "<style>#sk-container-id-6 {color: black;background-color: white;}#sk-container-id-6 pre{padding: 0;}#sk-container-id-6 div.sk-toggleable {background-color: white;}#sk-container-id-6 label.sk-toggleable__label {cursor: pointer;display: block;width: 100%;margin-bottom: 0;padding: 0.3em;box-sizing: border-box;text-align: center;}#sk-container-id-6 label.sk-toggleable__label-arrow:before {content: \"▸\";float: left;margin-right: 0.25em;color: #696969;}#sk-container-id-6 label.sk-toggleable__label-arrow:hover:before {color: black;}#sk-container-id-6 div.sk-estimator:hover label.sk-toggleable__label-arrow:before {color: black;}#sk-container-id-6 div.sk-toggleable__content {max-height: 0;max-width: 0;overflow: hidden;text-align: left;background-color: #f0f8ff;}#sk-container-id-6 div.sk-toggleable__content pre {margin: 0.2em;color: black;border-radius: 0.25em;background-color: #f0f8ff;}#sk-container-id-6 input.sk-toggleable__control:checked~div.sk-toggleable__content {max-height: 200px;max-width: 100%;overflow: auto;}#sk-container-id-6 input.sk-toggleable__control:checked~label.sk-toggleable__label-arrow:before {content: \"▾\";}#sk-container-id-6 div.sk-estimator input.sk-toggleable__control:checked~label.sk-toggleable__label {background-color: #d4ebff;}#sk-container-id-6 div.sk-label input.sk-toggleable__control:checked~label.sk-toggleable__label {background-color: #d4ebff;}#sk-container-id-6 input.sk-hidden--visually {border: 0;clip: rect(1px 1px 1px 1px);clip: rect(1px, 1px, 1px, 1px);height: 1px;margin: -1px;overflow: hidden;padding: 0;position: absolute;width: 1px;}#sk-container-id-6 div.sk-estimator {font-family: monospace;background-color: #f0f8ff;border: 1px dotted black;border-radius: 0.25em;box-sizing: border-box;margin-bottom: 0.5em;}#sk-container-id-6 div.sk-estimator:hover {background-color: #d4ebff;}#sk-container-id-6 div.sk-parallel-item::after {content: \"\";width: 100%;border-bottom: 1px solid gray;flex-grow: 1;}#sk-container-id-6 div.sk-label:hover label.sk-toggleable__label {background-color: #d4ebff;}#sk-container-id-6 div.sk-serial::before {content: \"\";position: absolute;border-left: 1px solid gray;box-sizing: border-box;top: 0;bottom: 0;left: 50%;z-index: 0;}#sk-container-id-6 div.sk-serial {display: flex;flex-direction: column;align-items: center;background-color: white;padding-right: 0.2em;padding-left: 0.2em;position: relative;}#sk-container-id-6 div.sk-item {position: relative;z-index: 1;}#sk-container-id-6 div.sk-parallel {display: flex;align-items: stretch;justify-content: center;background-color: white;position: relative;}#sk-container-id-6 div.sk-item::before, #sk-container-id-6 div.sk-parallel-item::before {content: \"\";position: absolute;border-left: 1px solid gray;box-sizing: border-box;top: 0;bottom: 0;left: 50%;z-index: -1;}#sk-container-id-6 div.sk-parallel-item {display: flex;flex-direction: column;z-index: 1;position: relative;background-color: white;}#sk-container-id-6 div.sk-parallel-item:first-child::after {align-self: flex-end;width: 50%;}#sk-container-id-6 div.sk-parallel-item:last-child::after {align-self: flex-start;width: 50%;}#sk-container-id-6 div.sk-parallel-item:only-child::after {width: 0;}#sk-container-id-6 div.sk-dashed-wrapped {border: 1px dashed gray;margin: 0 0.4em 0.5em 0.4em;box-sizing: border-box;padding-bottom: 0.4em;background-color: white;}#sk-container-id-6 div.sk-label label {font-family: monospace;font-weight: bold;display: inline-block;line-height: 1.2em;}#sk-container-id-6 div.sk-label-container {text-align: center;}#sk-container-id-6 div.sk-container {/* jupyter's `normalize.less` sets `[hidden] { display: none; }` but bootstrap.min.css set `[hidden] { display: none !important; }` so we also need the `!important` here to be able to override the default hidden behavior on the sphinx rendered scikit-learn.org. See: https://github.com/scikit-learn/scikit-learn/issues/21755 */display: inline-block !important;position: relative;}#sk-container-id-6 div.sk-text-repr-fallback {display: none;}</style><div id=\"sk-container-id-6\" class=\"sk-top-container\"><div class=\"sk-text-repr-fallback\"><pre>Lasso(alpha=0.1)</pre><b>In a Jupyter environment, please rerun this cell to show the HTML representation or trust the notebook. <br />On GitHub, the HTML representation is unable to render, please try loading this page with nbviewer.org.</b></div><div class=\"sk-container\" hidden><div class=\"sk-item\"><div class=\"sk-estimator sk-toggleable\"><input class=\"sk-toggleable__control sk-hidden--visually\" id=\"sk-estimator-id-6\" type=\"checkbox\" checked><label for=\"sk-estimator-id-6\" class=\"sk-toggleable__label sk-toggleable__label-arrow\">Lasso</label><div class=\"sk-toggleable__content\"><pre>Lasso(alpha=0.1)</pre></div></div></div></div></div>"
            ]
          },
          "metadata": {},
          "execution_count": 72
        }
      ]
    },
    {
      "cell_type": "code",
      "source": [
        "# Get the coefficients\n",
        "coefficients = lasso.coef_\n",
        "print(\"Lasso Coefficients:\", coefficients)"
      ],
      "metadata": {
        "colab": {
          "base_uri": "https://localhost:8080/"
        },
        "id": "xMKsPRjhCtbT",
        "outputId": "9e40bccf-ea0f-4dd5-d408-c9413ef6aa28"
      },
      "execution_count": null,
      "outputs": [
        {
          "output_type": "stream",
          "name": "stdout",
          "text": [
            "Lasso Coefficients: [ 2.42956222 -0.         -0.         -0.          1.25909944  0.\n",
            "  0.         -0.         -0.         -0.          0.          0.34414331\n",
            " -0.         -0.          0.2378355   0.          0.34961505  0.29288883\n",
            "  0.06771909  0.44420296  0.         -0.          0.09098411  0.\n",
            " -0.         -0.         -0.         -0.          0.          0.\n",
            "  0.          0.         -0.          1.31186847 -0.          0.\n",
            "  0.         -0.          0.         -0.         -0.          0.\n",
            " -0.         -0.         -0.          0.14647952  0.          0.\n",
            "  0.          0.        ]\n"
          ]
        }
      ]
    },
    {
      "cell_type": "code",
      "source": [
        "# Features with non-zero coefficients\n",
        "selected_features = np.array(X.columns)[coefficients != 0]\n",
        "print(\"Selected Features by Lasso:\", selected_features)"
      ],
      "metadata": {
        "colab": {
          "base_uri": "https://localhost:8080/"
        },
        "id": "b7y2-ziECzvM",
        "outputId": "5aa00c79-9cb9-4110-acc4-22df4756e6ed"
      },
      "execution_count": null,
      "outputs": [
        {
          "output_type": "stream",
          "name": "stdout",
          "text": [
            "Selected Features by Lasso: ['Potential' 'Age' 'International_Reputation' 'Pace_Total' 'Passing_Total'\n",
            " 'Dribbling_Total' 'Defending_Total' 'Physicality_Total'\n",
            " 'Heading_Accuracy' 'Reactions' 'Composure']\n"
          ]
        }
      ]
    },
    {
      "cell_type": "code",
      "source": [],
      "metadata": {
        "id": "G-u7i5Y1f4Df"
      },
      "execution_count": null,
      "outputs": []
    }
  ],
  "metadata": {
    "colab": {
      "provenance": [],
      "authorship_tag": "ABX9TyPcc5Qg3TYPgvR9wz3G+sFd",
      "include_colab_link": true
    },
    "kernelspec": {
      "display_name": "Python 3",
      "name": "python3"
    },
    "language_info": {
      "name": "python"
    }
  },
  "nbformat": 4,
  "nbformat_minor": 0
}